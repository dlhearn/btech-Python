{
  "nbformat": 4,
  "nbformat_minor": 0,
  "metadata": {
    "colab": {
      "provenance": [],
      "authorship_tag": "ABX9TyPTNNhdUQ9aRyJNvlq09ShK",
      "include_colab_link": true
    },
    "kernelspec": {
      "name": "python3",
      "display_name": "Python 3"
    },
    "language_info": {
      "name": "python"
    }
  },
  "cells": [
    {
      "cell_type": "markdown",
      "metadata": {
        "id": "view-in-github",
        "colab_type": "text"
      },
      "source": [
        "<a href=\"https://colab.research.google.com/github/dlhearn/btech-Python/blob/main/Numpy_Class.ipynb\" target=\"_parent\"><img src=\"https://colab.research.google.com/assets/colab-badge.svg\" alt=\"Open In Colab\"/></a>"
      ]
    },
    {
      "cell_type": "code",
      "execution_count": 1,
      "metadata": {
        "id": "XiwLGDLDQLDp"
      },
      "outputs": [],
      "source": [
        "import numpy as np"
      ]
    },
    {
      "cell_type": "code",
      "source": [
        "numbers_list = [5,9,15,25,40]\n",
        "numbers_list"
      ],
      "metadata": {
        "colab": {
          "base_uri": "https://localhost:8080/"
        },
        "id": "TtvYC19cQvZJ",
        "outputId": "0c50cb21-4fa7-41a8-928e-edae5534a809"
      },
      "execution_count": 2,
      "outputs": [
        {
          "output_type": "execute_result",
          "data": {
            "text/plain": [
              "[5, 9, 15, 25, 40]"
            ]
          },
          "metadata": {},
          "execution_count": 2
        }
      ]
    },
    {
      "cell_type": "code",
      "source": [
        "np.array(numbers_list)"
      ],
      "metadata": {
        "colab": {
          "base_uri": "https://localhost:8080/"
        },
        "id": "c9LXXIblQ5DI",
        "outputId": "8f8fd7b4-4ef0-48cb-84c5-68e573080884"
      },
      "execution_count": 3,
      "outputs": [
        {
          "output_type": "execute_result",
          "data": {
            "text/plain": [
              "array([ 5,  9, 15, 25, 40])"
            ]
          },
          "metadata": {},
          "execution_count": 3
        }
      ]
    },
    {
      "cell_type": "code",
      "source": [
        "numbers_list * 3"
      ],
      "metadata": {
        "colab": {
          "base_uri": "https://localhost:8080/"
        },
        "id": "1OJXFddBQ9Y5",
        "outputId": "96cbc4a5-8479-4a56-e4a3-39bbef20e2d5"
      },
      "execution_count": 5,
      "outputs": [
        {
          "output_type": "execute_result",
          "data": {
            "text/plain": [
              "[5, 9, 15, 25, 40, 5, 9, 15, 25, 40, 5, 9, 15, 25, 40]"
            ]
          },
          "metadata": {},
          "execution_count": 5
        }
      ]
    },
    {
      "cell_type": "code",
      "source": [
        "numbers_array = np.array (numbers_list)\n",
        "numbers_array"
      ],
      "metadata": {
        "colab": {
          "base_uri": "https://localhost:8080/"
        },
        "id": "dhO02utaRCth",
        "outputId": "d7f15beb-a93c-4c11-9c0b-4a4b15aa28be"
      },
      "execution_count": 8,
      "outputs": [
        {
          "output_type": "execute_result",
          "data": {
            "text/plain": [
              "array([ 5,  9, 15, 25, 40])"
            ]
          },
          "metadata": {},
          "execution_count": 8
        }
      ]
    },
    {
      "cell_type": "code",
      "source": [
        "numbers_array / 3"
      ],
      "metadata": {
        "colab": {
          "base_uri": "https://localhost:8080/"
        },
        "id": "q6ticUwTRWB3",
        "outputId": "62e8c8c0-4844-4aa6-e5db-a9fec0bdd2db"
      },
      "execution_count": 9,
      "outputs": [
        {
          "output_type": "execute_result",
          "data": {
            "text/plain": [
              "array([ 1.66666667,  3.        ,  5.        ,  8.33333333, 13.33333333])"
            ]
          },
          "metadata": {},
          "execution_count": 9
        }
      ]
    },
    {
      "cell_type": "code",
      "source": [
        "numbers_array * 3"
      ],
      "metadata": {
        "colab": {
          "base_uri": "https://localhost:8080/"
        },
        "id": "SkChtq2sRcrA",
        "outputId": "b49f12f6-bd84-465b-8f40-cc90ece7634b"
      },
      "execution_count": 10,
      "outputs": [
        {
          "output_type": "execute_result",
          "data": {
            "text/plain": [
              "array([ 15,  27,  45,  75, 120])"
            ]
          },
          "metadata": {},
          "execution_count": 10
        }
      ]
    },
    {
      "cell_type": "code",
      "source": [
        "numbers_array.reshape (-1, 1)"
      ],
      "metadata": {
        "colab": {
          "base_uri": "https://localhost:8080/"
        },
        "id": "6_FWilwrRgO2",
        "outputId": "30c2de9f-404b-4dd1-dfeb-4633a046275e"
      },
      "execution_count": 11,
      "outputs": [
        {
          "output_type": "execute_result",
          "data": {
            "text/plain": [
              "array([[ 5],\n",
              "       [ 9],\n",
              "       [15],\n",
              "       [25],\n",
              "       [40]])"
            ]
          },
          "metadata": {},
          "execution_count": 11
        }
      ]
    },
    {
      "cell_type": "code",
      "source": [
        "np.array(([1, 2, 3], [4, 5, 6]))"
      ],
      "metadata": {
        "colab": {
          "base_uri": "https://localhost:8080/"
        },
        "id": "2DqMoFKISUl3",
        "outputId": "29fbba1d-2cb7-4d61-b32d-1ed3dd5ed867"
      },
      "execution_count": 14,
      "outputs": [
        {
          "output_type": "execute_result",
          "data": {
            "text/plain": [
              "array([[1, 2, 3],\n",
              "       [4, 5, 6]])"
            ]
          },
          "metadata": {},
          "execution_count": 14
        }
      ]
    },
    {
      "cell_type": "code",
      "source": [
        "np.linspace(0, 10, 20)"
      ],
      "metadata": {
        "colab": {
          "base_uri": "https://localhost:8080/"
        },
        "id": "R4NANz-pTOzy",
        "outputId": "2986ee7a-06ca-428a-89f5-4da426b516fe"
      },
      "execution_count": 18,
      "outputs": [
        {
          "output_type": "execute_result",
          "data": {
            "text/plain": [
              "array([ 0.        ,  0.52631579,  1.05263158,  1.57894737,  2.10526316,\n",
              "        2.63157895,  3.15789474,  3.68421053,  4.21052632,  4.73684211,\n",
              "        5.26315789,  5.78947368,  6.31578947,  6.84210526,  7.36842105,\n",
              "        7.89473684,  8.42105263,  8.94736842,  9.47368421, 10.        ])"
            ]
          },
          "metadata": {},
          "execution_count": 18
        }
      ]
    },
    {
      "cell_type": "code",
      "source": [
        "np.arange(0, 100, 5)"
      ],
      "metadata": {
        "colab": {
          "base_uri": "https://localhost:8080/"
        },
        "id": "GIeUJceATwAz",
        "outputId": "387743c6-1c00-4ffb-dc1d-e315118abe51"
      },
      "execution_count": 19,
      "outputs": [
        {
          "output_type": "execute_result",
          "data": {
            "text/plain": [
              "array([ 0,  5, 10, 15, 20, 25, 30, 35, 40, 45, 50, 55, 60, 65, 70, 75, 80,\n",
              "       85, 90, 95])"
            ]
          },
          "metadata": {},
          "execution_count": 19
        }
      ]
    },
    {
      "cell_type": "code",
      "source": [
        "np.random.random()"
      ],
      "metadata": {
        "colab": {
          "base_uri": "https://localhost:8080/"
        },
        "id": "-HmXzta7T8Kz",
        "outputId": "f640247d-16bd-4d2f-de5a-7c94a71843a4"
      },
      "execution_count": 20,
      "outputs": [
        {
          "output_type": "execute_result",
          "data": {
            "text/plain": [
              "0.3244519375007062"
            ]
          },
          "metadata": {},
          "execution_count": 20
        }
      ]
    },
    {
      "cell_type": "code",
      "source": [
        "np.random.seed(123)\n",
        "np.random.random()"
      ],
      "metadata": {
        "colab": {
          "base_uri": "https://localhost:8080/"
        },
        "id": "Fx1Bloi2UjNf",
        "outputId": "b2ea4460-fda9-447c-82ad-0e339ecb6d37"
      },
      "execution_count": 23,
      "outputs": [
        {
          "output_type": "execute_result",
          "data": {
            "text/plain": [
              "0.6964691855978616"
            ]
          },
          "metadata": {},
          "execution_count": 23
        }
      ]
    },
    {
      "cell_type": "code",
      "source": [
        "np.random.random() * 10"
      ],
      "metadata": {
        "colab": {
          "base_uri": "https://localhost:8080/"
        },
        "id": "xxL__sdpU8Ay",
        "outputId": "c6e815a8-4807-47a8-f556-7b1d6a41c99b"
      },
      "execution_count": 24,
      "outputs": [
        {
          "output_type": "execute_result",
          "data": {
            "text/plain": [
              "2.8613933495037944"
            ]
          },
          "metadata": {},
          "execution_count": 24
        }
      ]
    },
    {
      "cell_type": "code",
      "source": [
        "numbers_array"
      ],
      "metadata": {
        "colab": {
          "base_uri": "https://localhost:8080/"
        },
        "id": "UbLrM9NUVLyk",
        "outputId": "20a2ba61-36dc-4f5e-88bb-fa1ae212b943"
      },
      "execution_count": 25,
      "outputs": [
        {
          "output_type": "execute_result",
          "data": {
            "text/plain": [
              "array([ 5,  9, 15, 25, 40])"
            ]
          },
          "metadata": {},
          "execution_count": 25
        }
      ]
    },
    {
      "cell_type": "code",
      "source": [
        "numbers_array.argmin()"
      ],
      "metadata": {
        "colab": {
          "base_uri": "https://localhost:8080/"
        },
        "id": "X8Q90322VZKB",
        "outputId": "c4722de4-f705-4016-fe3f-cf4441441a66"
      },
      "execution_count": 26,
      "outputs": [
        {
          "output_type": "execute_result",
          "data": {
            "text/plain": [
              "0"
            ]
          },
          "metadata": {},
          "execution_count": 26
        }
      ]
    },
    {
      "cell_type": "code",
      "source": [
        "numbers_array.argmax()"
      ],
      "metadata": {
        "colab": {
          "base_uri": "https://localhost:8080/"
        },
        "id": "7dgBf4oqVdTX",
        "outputId": "07d3d7dc-e38e-4095-ccad-fa7a993c370a"
      },
      "execution_count": 27,
      "outputs": [
        {
          "output_type": "execute_result",
          "data": {
            "text/plain": [
              "4"
            ]
          },
          "metadata": {},
          "execution_count": 27
        }
      ]
    },
    {
      "cell_type": "code",
      "source": [
        "numbers_array[0]"
      ],
      "metadata": {
        "colab": {
          "base_uri": "https://localhost:8080/"
        },
        "id": "84xsD9N0Vl2z",
        "outputId": "e870f024-87d6-4eb2-960f-b61de24469be"
      },
      "execution_count": 28,
      "outputs": [
        {
          "output_type": "execute_result",
          "data": {
            "text/plain": [
              "5"
            ]
          },
          "metadata": {},
          "execution_count": 28
        }
      ]
    },
    {
      "cell_type": "code",
      "source": [
        "numbers_array[1]"
      ],
      "metadata": {
        "colab": {
          "base_uri": "https://localhost:8080/"
        },
        "id": "1Ei8HV9aVuQN",
        "outputId": "89095ea4-2ae9-4569-8c03-e500ce0dfd29"
      },
      "execution_count": 29,
      "outputs": [
        {
          "output_type": "execute_result",
          "data": {
            "text/plain": [
              "9"
            ]
          },
          "metadata": {},
          "execution_count": 29
        }
      ]
    },
    {
      "cell_type": "code",
      "source": [
        "numbers_array[4]"
      ],
      "metadata": {
        "colab": {
          "base_uri": "https://localhost:8080/"
        },
        "id": "UU2YrRuhVw_a",
        "outputId": "44131c75-c791-40f8-ea40-5414b6160e84"
      },
      "execution_count": 30,
      "outputs": [
        {
          "output_type": "execute_result",
          "data": {
            "text/plain": [
              "40"
            ]
          },
          "metadata": {},
          "execution_count": 30
        }
      ]
    },
    {
      "cell_type": "code",
      "source": [
        "numbers_array"
      ],
      "metadata": {
        "colab": {
          "base_uri": "https://localhost:8080/"
        },
        "id": "fWUZOrY1V7NI",
        "outputId": "17e0d908-1d6a-4867-f31e-2765ee3ae098"
      },
      "execution_count": 31,
      "outputs": [
        {
          "output_type": "execute_result",
          "data": {
            "text/plain": [
              "array([ 5,  9, 15, 25, 40])"
            ]
          },
          "metadata": {},
          "execution_count": 31
        }
      ]
    },
    {
      "cell_type": "code",
      "source": [
        "np.where(numbers_array > 12, 'big', 'small')"
      ],
      "metadata": {
        "colab": {
          "base_uri": "https://localhost:8080/"
        },
        "id": "eCV8znBFWLtB",
        "outputId": "9ed30282-1f04-43f1-991f-105b522dc65a"
      },
      "execution_count": 32,
      "outputs": [
        {
          "output_type": "execute_result",
          "data": {
            "text/plain": [
              "array(['small', 'small', 'big', 'big', 'big'], dtype='<U5')"
            ]
          },
          "metadata": {},
          "execution_count": 32
        }
      ]
    },
    {
      "cell_type": "code",
      "source": [
        "import pandas as pd"
      ],
      "metadata": {
        "id": "d2W86-uDWfHA"
      },
      "execution_count": 33,
      "outputs": []
    },
    {
      "cell_type": "code",
      "source": [
        "df = pd.read_csv('titanic.csv')\n",
        "df.head()"
      ],
      "metadata": {
        "colab": {
          "base_uri": "https://localhost:8080/",
          "height": 258
        },
        "id": "GQGXTqw5W2tO",
        "outputId": "6396163f-60d2-42dc-b368-b6cc33834606"
      },
      "execution_count": 34,
      "outputs": [
        {
          "output_type": "execute_result",
          "data": {
            "text/plain": [
              "   PassengerId  Survived  Pclass  \\\n",
              "0            1         0       3   \n",
              "1            2         1       1   \n",
              "2            3         1       3   \n",
              "3            4         1       1   \n",
              "4            5         0       3   \n",
              "\n",
              "                                                Name     Sex   Age  SibSp  \\\n",
              "0                            Braund, Mr. Owen Harris    male  22.0      1   \n",
              "1  Cumings, Mrs. John Bradley (Florence Briggs Th...  female  38.0      1   \n",
              "2                             Heikkinen, Miss. Laina  female  26.0      0   \n",
              "3       Futrelle, Mrs. Jacques Heath (Lily May Peel)  female  35.0      1   \n",
              "4                           Allen, Mr. William Henry    male  35.0      0   \n",
              "\n",
              "   Parch            Ticket     Fare Cabin Embarked  \n",
              "0      0         A/5 21171   7.2500   NaN        S  \n",
              "1      0          PC 17599  71.2833   C85        C  \n",
              "2      0  STON/O2. 3101282   7.9250   NaN        S  \n",
              "3      0            113803  53.1000  C123        S  \n",
              "4      0            373450   8.0500   NaN        S  "
            ],
            "text/html": [
              "\n",
              "  <div id=\"df-caf7cf43-ac29-4786-89cd-ebc663325fbe\" class=\"colab-df-container\">\n",
              "    <div>\n",
              "<style scoped>\n",
              "    .dataframe tbody tr th:only-of-type {\n",
              "        vertical-align: middle;\n",
              "    }\n",
              "\n",
              "    .dataframe tbody tr th {\n",
              "        vertical-align: top;\n",
              "    }\n",
              "\n",
              "    .dataframe thead th {\n",
              "        text-align: right;\n",
              "    }\n",
              "</style>\n",
              "<table border=\"1\" class=\"dataframe\">\n",
              "  <thead>\n",
              "    <tr style=\"text-align: right;\">\n",
              "      <th></th>\n",
              "      <th>PassengerId</th>\n",
              "      <th>Survived</th>\n",
              "      <th>Pclass</th>\n",
              "      <th>Name</th>\n",
              "      <th>Sex</th>\n",
              "      <th>Age</th>\n",
              "      <th>SibSp</th>\n",
              "      <th>Parch</th>\n",
              "      <th>Ticket</th>\n",
              "      <th>Fare</th>\n",
              "      <th>Cabin</th>\n",
              "      <th>Embarked</th>\n",
              "    </tr>\n",
              "  </thead>\n",
              "  <tbody>\n",
              "    <tr>\n",
              "      <th>0</th>\n",
              "      <td>1</td>\n",
              "      <td>0</td>\n",
              "      <td>3</td>\n",
              "      <td>Braund, Mr. Owen Harris</td>\n",
              "      <td>male</td>\n",
              "      <td>22.0</td>\n",
              "      <td>1</td>\n",
              "      <td>0</td>\n",
              "      <td>A/5 21171</td>\n",
              "      <td>7.2500</td>\n",
              "      <td>NaN</td>\n",
              "      <td>S</td>\n",
              "    </tr>\n",
              "    <tr>\n",
              "      <th>1</th>\n",
              "      <td>2</td>\n",
              "      <td>1</td>\n",
              "      <td>1</td>\n",
              "      <td>Cumings, Mrs. John Bradley (Florence Briggs Th...</td>\n",
              "      <td>female</td>\n",
              "      <td>38.0</td>\n",
              "      <td>1</td>\n",
              "      <td>0</td>\n",
              "      <td>PC 17599</td>\n",
              "      <td>71.2833</td>\n",
              "      <td>C85</td>\n",
              "      <td>C</td>\n",
              "    </tr>\n",
              "    <tr>\n",
              "      <th>2</th>\n",
              "      <td>3</td>\n",
              "      <td>1</td>\n",
              "      <td>3</td>\n",
              "      <td>Heikkinen, Miss. Laina</td>\n",
              "      <td>female</td>\n",
              "      <td>26.0</td>\n",
              "      <td>0</td>\n",
              "      <td>0</td>\n",
              "      <td>STON/O2. 3101282</td>\n",
              "      <td>7.9250</td>\n",
              "      <td>NaN</td>\n",
              "      <td>S</td>\n",
              "    </tr>\n",
              "    <tr>\n",
              "      <th>3</th>\n",
              "      <td>4</td>\n",
              "      <td>1</td>\n",
              "      <td>1</td>\n",
              "      <td>Futrelle, Mrs. Jacques Heath (Lily May Peel)</td>\n",
              "      <td>female</td>\n",
              "      <td>35.0</td>\n",
              "      <td>1</td>\n",
              "      <td>0</td>\n",
              "      <td>113803</td>\n",
              "      <td>53.1000</td>\n",
              "      <td>C123</td>\n",
              "      <td>S</td>\n",
              "    </tr>\n",
              "    <tr>\n",
              "      <th>4</th>\n",
              "      <td>5</td>\n",
              "      <td>0</td>\n",
              "      <td>3</td>\n",
              "      <td>Allen, Mr. William Henry</td>\n",
              "      <td>male</td>\n",
              "      <td>35.0</td>\n",
              "      <td>0</td>\n",
              "      <td>0</td>\n",
              "      <td>373450</td>\n",
              "      <td>8.0500</td>\n",
              "      <td>NaN</td>\n",
              "      <td>S</td>\n",
              "    </tr>\n",
              "  </tbody>\n",
              "</table>\n",
              "</div>\n",
              "    <div class=\"colab-df-buttons\">\n",
              "\n",
              "  <div class=\"colab-df-container\">\n",
              "    <button class=\"colab-df-convert\" onclick=\"convertToInteractive('df-caf7cf43-ac29-4786-89cd-ebc663325fbe')\"\n",
              "            title=\"Convert this dataframe to an interactive table.\"\n",
              "            style=\"display:none;\">\n",
              "\n",
              "  <svg xmlns=\"http://www.w3.org/2000/svg\" height=\"24px\" viewBox=\"0 -960 960 960\">\n",
              "    <path d=\"M120-120v-720h720v720H120Zm60-500h600v-160H180v160Zm220 220h160v-160H400v160Zm0 220h160v-160H400v160ZM180-400h160v-160H180v160Zm440 0h160v-160H620v160ZM180-180h160v-160H180v160Zm440 0h160v-160H620v160Z\"/>\n",
              "  </svg>\n",
              "    </button>\n",
              "\n",
              "  <style>\n",
              "    .colab-df-container {\n",
              "      display:flex;\n",
              "      gap: 12px;\n",
              "    }\n",
              "\n",
              "    .colab-df-convert {\n",
              "      background-color: #E8F0FE;\n",
              "      border: none;\n",
              "      border-radius: 50%;\n",
              "      cursor: pointer;\n",
              "      display: none;\n",
              "      fill: #1967D2;\n",
              "      height: 32px;\n",
              "      padding: 0 0 0 0;\n",
              "      width: 32px;\n",
              "    }\n",
              "\n",
              "    .colab-df-convert:hover {\n",
              "      background-color: #E2EBFA;\n",
              "      box-shadow: 0px 1px 2px rgba(60, 64, 67, 0.3), 0px 1px 3px 1px rgba(60, 64, 67, 0.15);\n",
              "      fill: #174EA6;\n",
              "    }\n",
              "\n",
              "    .colab-df-buttons div {\n",
              "      margin-bottom: 4px;\n",
              "    }\n",
              "\n",
              "    [theme=dark] .colab-df-convert {\n",
              "      background-color: #3B4455;\n",
              "      fill: #D2E3FC;\n",
              "    }\n",
              "\n",
              "    [theme=dark] .colab-df-convert:hover {\n",
              "      background-color: #434B5C;\n",
              "      box-shadow: 0px 1px 3px 1px rgba(0, 0, 0, 0.15);\n",
              "      filter: drop-shadow(0px 1px 2px rgba(0, 0, 0, 0.3));\n",
              "      fill: #FFFFFF;\n",
              "    }\n",
              "  </style>\n",
              "\n",
              "    <script>\n",
              "      const buttonEl =\n",
              "        document.querySelector('#df-caf7cf43-ac29-4786-89cd-ebc663325fbe button.colab-df-convert');\n",
              "      buttonEl.style.display =\n",
              "        google.colab.kernel.accessAllowed ? 'block' : 'none';\n",
              "\n",
              "      async function convertToInteractive(key) {\n",
              "        const element = document.querySelector('#df-caf7cf43-ac29-4786-89cd-ebc663325fbe');\n",
              "        const dataTable =\n",
              "          await google.colab.kernel.invokeFunction('convertToInteractive',\n",
              "                                                    [key], {});\n",
              "        if (!dataTable) return;\n",
              "\n",
              "        const docLinkHtml = 'Like what you see? Visit the ' +\n",
              "          '<a target=\"_blank\" href=https://colab.research.google.com/notebooks/data_table.ipynb>data table notebook</a>'\n",
              "          + ' to learn more about interactive tables.';\n",
              "        element.innerHTML = '';\n",
              "        dataTable['output_type'] = 'display_data';\n",
              "        await google.colab.output.renderOutput(dataTable, element);\n",
              "        const docLink = document.createElement('div');\n",
              "        docLink.innerHTML = docLinkHtml;\n",
              "        element.appendChild(docLink);\n",
              "      }\n",
              "    </script>\n",
              "  </div>\n",
              "\n",
              "\n",
              "<div id=\"df-760281dd-790b-418a-8be9-199f689a9ce0\">\n",
              "  <button class=\"colab-df-quickchart\" onclick=\"quickchart('df-760281dd-790b-418a-8be9-199f689a9ce0')\"\n",
              "            title=\"Suggest charts\"\n",
              "            style=\"display:none;\">\n",
              "\n",
              "<svg xmlns=\"http://www.w3.org/2000/svg\" height=\"24px\"viewBox=\"0 0 24 24\"\n",
              "     width=\"24px\">\n",
              "    <g>\n",
              "        <path d=\"M19 3H5c-1.1 0-2 .9-2 2v14c0 1.1.9 2 2 2h14c1.1 0 2-.9 2-2V5c0-1.1-.9-2-2-2zM9 17H7v-7h2v7zm4 0h-2V7h2v10zm4 0h-2v-4h2v4z\"/>\n",
              "    </g>\n",
              "</svg>\n",
              "  </button>\n",
              "\n",
              "<style>\n",
              "  .colab-df-quickchart {\n",
              "      --bg-color: #E8F0FE;\n",
              "      --fill-color: #1967D2;\n",
              "      --hover-bg-color: #E2EBFA;\n",
              "      --hover-fill-color: #174EA6;\n",
              "      --disabled-fill-color: #AAA;\n",
              "      --disabled-bg-color: #DDD;\n",
              "  }\n",
              "\n",
              "  [theme=dark] .colab-df-quickchart {\n",
              "      --bg-color: #3B4455;\n",
              "      --fill-color: #D2E3FC;\n",
              "      --hover-bg-color: #434B5C;\n",
              "      --hover-fill-color: #FFFFFF;\n",
              "      --disabled-bg-color: #3B4455;\n",
              "      --disabled-fill-color: #666;\n",
              "  }\n",
              "\n",
              "  .colab-df-quickchart {\n",
              "    background-color: var(--bg-color);\n",
              "    border: none;\n",
              "    border-radius: 50%;\n",
              "    cursor: pointer;\n",
              "    display: none;\n",
              "    fill: var(--fill-color);\n",
              "    height: 32px;\n",
              "    padding: 0;\n",
              "    width: 32px;\n",
              "  }\n",
              "\n",
              "  .colab-df-quickchart:hover {\n",
              "    background-color: var(--hover-bg-color);\n",
              "    box-shadow: 0 1px 2px rgba(60, 64, 67, 0.3), 0 1px 3px 1px rgba(60, 64, 67, 0.15);\n",
              "    fill: var(--button-hover-fill-color);\n",
              "  }\n",
              "\n",
              "  .colab-df-quickchart-complete:disabled,\n",
              "  .colab-df-quickchart-complete:disabled:hover {\n",
              "    background-color: var(--disabled-bg-color);\n",
              "    fill: var(--disabled-fill-color);\n",
              "    box-shadow: none;\n",
              "  }\n",
              "\n",
              "  .colab-df-spinner {\n",
              "    border: 2px solid var(--fill-color);\n",
              "    border-color: transparent;\n",
              "    border-bottom-color: var(--fill-color);\n",
              "    animation:\n",
              "      spin 1s steps(1) infinite;\n",
              "  }\n",
              "\n",
              "  @keyframes spin {\n",
              "    0% {\n",
              "      border-color: transparent;\n",
              "      border-bottom-color: var(--fill-color);\n",
              "      border-left-color: var(--fill-color);\n",
              "    }\n",
              "    20% {\n",
              "      border-color: transparent;\n",
              "      border-left-color: var(--fill-color);\n",
              "      border-top-color: var(--fill-color);\n",
              "    }\n",
              "    30% {\n",
              "      border-color: transparent;\n",
              "      border-left-color: var(--fill-color);\n",
              "      border-top-color: var(--fill-color);\n",
              "      border-right-color: var(--fill-color);\n",
              "    }\n",
              "    40% {\n",
              "      border-color: transparent;\n",
              "      border-right-color: var(--fill-color);\n",
              "      border-top-color: var(--fill-color);\n",
              "    }\n",
              "    60% {\n",
              "      border-color: transparent;\n",
              "      border-right-color: var(--fill-color);\n",
              "    }\n",
              "    80% {\n",
              "      border-color: transparent;\n",
              "      border-right-color: var(--fill-color);\n",
              "      border-bottom-color: var(--fill-color);\n",
              "    }\n",
              "    90% {\n",
              "      border-color: transparent;\n",
              "      border-bottom-color: var(--fill-color);\n",
              "    }\n",
              "  }\n",
              "</style>\n",
              "\n",
              "  <script>\n",
              "    async function quickchart(key) {\n",
              "      const quickchartButtonEl =\n",
              "        document.querySelector('#' + key + ' button');\n",
              "      quickchartButtonEl.disabled = true;  // To prevent multiple clicks.\n",
              "      quickchartButtonEl.classList.add('colab-df-spinner');\n",
              "      try {\n",
              "        const charts = await google.colab.kernel.invokeFunction(\n",
              "            'suggestCharts', [key], {});\n",
              "      } catch (error) {\n",
              "        console.error('Error during call to suggestCharts:', error);\n",
              "      }\n",
              "      quickchartButtonEl.classList.remove('colab-df-spinner');\n",
              "      quickchartButtonEl.classList.add('colab-df-quickchart-complete');\n",
              "    }\n",
              "    (() => {\n",
              "      let quickchartButtonEl =\n",
              "        document.querySelector('#df-760281dd-790b-418a-8be9-199f689a9ce0 button');\n",
              "      quickchartButtonEl.style.display =\n",
              "        google.colab.kernel.accessAllowed ? 'block' : 'none';\n",
              "    })();\n",
              "  </script>\n",
              "</div>\n",
              "\n",
              "    </div>\n",
              "  </div>\n"
            ]
          },
          "metadata": {},
          "execution_count": 34
        }
      ]
    },
    {
      "cell_type": "code",
      "source": [
        "np.where(df['Age'] > 50, 'old', np.where(df['Age'] > 25, 'middle age', 'young'))"
      ],
      "metadata": {
        "colab": {
          "base_uri": "https://localhost:8080/"
        },
        "id": "P7Te-WWJW9Fe",
        "outputId": "2ac52cc9-56ac-4a9d-d925-0b77acf9f74a"
      },
      "execution_count": 36,
      "outputs": [
        {
          "output_type": "execute_result",
          "data": {
            "text/plain": [
              "array(['young', 'middle age', 'middle age', 'middle age', 'middle age',\n",
              "       'young', 'old', 'young', 'middle age', 'young', 'young', 'old',\n",
              "       'young', 'middle age', 'young', 'old', 'young', 'young',\n",
              "       'middle age', 'young', 'middle age', 'middle age', 'young',\n",
              "       'middle age', 'young', 'middle age', 'young', 'young', 'young',\n",
              "       'young', 'middle age', 'young', 'young', 'old', 'middle age',\n",
              "       'middle age', 'young', 'young', 'young', 'young', 'middle age',\n",
              "       'middle age', 'young', 'young', 'young', 'young', 'young', 'young',\n",
              "       'young', 'young', 'young', 'young', 'middle age', 'middle age',\n",
              "       'old', 'young', 'young', 'middle age', 'young', 'young', 'young',\n",
              "       'middle age', 'middle age', 'young', 'young', 'young',\n",
              "       'middle age', 'young', 'young', 'middle age', 'middle age',\n",
              "       'young', 'young', 'middle age', 'middle age', 'young', 'young',\n",
              "       'young', 'young', 'middle age', 'young', 'middle age', 'young',\n",
              "       'middle age', 'young', 'middle age', 'young', 'young', 'young',\n",
              "       'young', 'middle age', 'young', 'middle age', 'middle age', 'old',\n",
              "       'young', 'old', 'young', 'middle age', 'middle age', 'middle age',\n",
              "       'young', 'young', 'middle age', 'middle age', 'middle age',\n",
              "       'young', 'young', 'middle age', 'young', 'middle age', 'young',\n",
              "       'young', 'young', 'young', 'young', 'old', 'middle age', 'young',\n",
              "       'young', 'young', 'young', 'middle age', 'middle age', 'old',\n",
              "       'young', 'young', 'young', 'young', 'middle age', 'middle age',\n",
              "       'young', 'middle age', 'middle age', 'young', 'young', 'young',\n",
              "       'middle age', 'young', 'young', 'young', 'young', 'young', 'young',\n",
              "       'young', 'young', 'middle age', 'young', 'middle age',\n",
              "       'middle age', 'old', 'young', 'old', 'middle age', 'young', 'old',\n",
              "       'young', 'middle age', 'young', 'young', 'middle age',\n",
              "       'middle age', 'middle age', 'young', 'young', 'young', 'young',\n",
              "       'middle age', 'young', 'middle age', 'old', 'young', 'young',\n",
              "       'young', 'old', 'young', 'young', 'middle age', 'middle age',\n",
              "       'middle age', 'young', 'young', 'young', 'young', 'young', 'young',\n",
              "       'young', 'middle age', 'middle age', 'middle age', 'middle age',\n",
              "       'young', 'young', 'young', 'middle age', 'old', 'young',\n",
              "       'middle age', 'young', 'young', 'middle age', 'young',\n",
              "       'middle age', 'middle age', 'young', 'young', 'middle age',\n",
              "       'middle age', 'young', 'middle age', 'young', 'middle age',\n",
              "       'young', 'middle age', 'young', 'middle age', 'middle age',\n",
              "       'middle age', 'middle age', 'middle age', 'young', 'middle age',\n",
              "       'old', 'young', 'middle age', 'young', 'young', 'young', 'young',\n",
              "       'young', 'middle age', 'middle age', 'old', 'young', 'young',\n",
              "       'young', 'middle age', 'young', 'young', 'middle age', 'young',\n",
              "       'young', 'middle age', 'young', 'middle age', 'middle age',\n",
              "       'young', 'young', 'middle age', 'old', 'young', 'middle age',\n",
              "       'old', 'middle age', 'middle age', 'middle age', 'young',\n",
              "       'middle age', 'middle age', 'middle age', 'young', 'young', 'old',\n",
              "       'middle age', 'young', 'middle age', 'young', 'young', 'old',\n",
              "       'middle age', 'young', 'young', 'middle age', 'middle age',\n",
              "       'young', 'old', 'middle age', 'young', 'young', 'middle age',\n",
              "       'old', 'middle age', 'young', 'young', 'young', 'middle age',\n",
              "       'middle age', 'young', 'middle age', 'young', 'middle age',\n",
              "       'young', 'middle age', 'young', 'young', 'young', 'young', 'young',\n",
              "       'young', 'middle age', 'young', 'young', 'young', 'young', 'young',\n",
              "       'young', 'young', 'young', 'middle age', 'middle age', 'young',\n",
              "       'young', 'middle age', 'middle age', 'middle age', 'middle age',\n",
              "       'young', 'old', 'middle age', 'middle age', 'young', 'middle age',\n",
              "       'middle age', 'young', 'young', 'middle age', 'old', 'middle age',\n",
              "       'middle age', 'young', 'young', 'middle age', 'middle age',\n",
              "       'young', 'young', 'young', 'middle age', 'middle age',\n",
              "       'middle age', 'middle age', 'young', 'young', 'middle age',\n",
              "       'young', 'middle age', 'young', 'middle age', 'young', 'young',\n",
              "       'middle age', 'young', 'young', 'young', 'young', 'young',\n",
              "       'middle age', 'young', 'middle age', 'young', 'young',\n",
              "       'middle age', 'middle age', 'middle age', 'middle age', 'young',\n",
              "       'middle age', 'old', 'young', 'young', 'young', 'young', 'young',\n",
              "       'young', 'young', 'young', 'young', 'young', 'middle age', 'young',\n",
              "       'young', 'middle age', 'young', 'middle age', 'middle age',\n",
              "       'young', 'young', 'young', 'middle age', 'young', 'young',\n",
              "       'middle age', 'young', 'middle age', 'young', 'young', 'young',\n",
              "       'middle age', 'middle age', 'young', 'middle age', 'middle age',\n",
              "       'middle age', 'young', 'middle age', 'young', 'middle age', 'old',\n",
              "       'young', 'young', 'young', 'young', 'young', 'middle age', 'young',\n",
              "       'middle age', 'young', 'middle age', 'young', 'middle age',\n",
              "       'young', 'young', 'young', 'middle age', 'middle age', 'young',\n",
              "       'young', 'middle age', 'young', 'young', 'middle age',\n",
              "       'middle age', 'young', 'middle age', 'young', 'middle age',\n",
              "       'young', 'young', 'young', 'old', 'middle age', 'middle age',\n",
              "       'young', 'young', 'middle age', 'young', 'young', 'young',\n",
              "       'middle age', 'young', 'old', 'middle age', 'young', 'middle age',\n",
              "       'middle age', 'young', 'middle age', 'old', 'young', 'middle age',\n",
              "       'young', 'middle age', 'middle age', 'middle age', 'middle age',\n",
              "       'young', 'middle age', 'young', 'old', 'young', 'young', 'young',\n",
              "       'middle age', 'middle age', 'young', 'young', 'young',\n",
              "       'middle age', 'middle age', 'young', 'young', 'young', 'young',\n",
              "       'middle age', 'old', 'young', 'young', 'middle age', 'old',\n",
              "       'middle age', 'young', 'young', 'young', 'old', 'old', 'young',\n",
              "       'young', 'old', 'young', 'young', 'young', 'young', 'young',\n",
              "       'young', 'middle age', 'young', 'young', 'middle age', 'young',\n",
              "       'middle age', 'middle age', 'middle age', 'young', 'middle age',\n",
              "       'old', 'young', 'middle age', 'middle age', 'young', 'middle age',\n",
              "       'middle age', 'middle age', 'young', 'young', 'middle age',\n",
              "       'young', 'middle age', 'middle age', 'young', 'middle age',\n",
              "       'young', 'young', 'young', 'young', 'young', 'middle age', 'young',\n",
              "       'middle age', 'middle age', 'young', 'young', 'middle age',\n",
              "       'young', 'young', 'middle age', 'middle age', 'old', 'young',\n",
              "       'young', 'middle age', 'young', 'young', 'middle age', 'young',\n",
              "       'young', 'young', 'old', 'middle age', 'young', 'middle age',\n",
              "       'middle age', 'young', 'middle age', 'middle age', 'young',\n",
              "       'young', 'young', 'young', 'middle age', 'young', 'middle age',\n",
              "       'old', 'old', 'middle age', 'young', 'young', 'young',\n",
              "       'middle age', 'middle age', 'young', 'middle age', 'young',\n",
              "       'middle age', 'old', 'middle age', 'young', 'young', 'middle age',\n",
              "       'old', 'young', 'young', 'middle age', 'old', 'middle age',\n",
              "       'young', 'middle age', 'middle age', 'young', 'middle age',\n",
              "       'young', 'middle age', 'young', 'young', 'young', 'middle age',\n",
              "       'middle age', 'middle age', 'middle age', 'middle age', 'young',\n",
              "       'middle age', 'middle age', 'young', 'young', 'young',\n",
              "       'middle age', 'young', 'middle age', 'middle age', 'young',\n",
              "       'middle age', 'middle age', 'middle age', 'young', 'young',\n",
              "       'young', 'old', 'old', 'young', 'middle age', 'young', 'old',\n",
              "       'old', 'middle age', 'young', 'young', 'middle age', 'middle age',\n",
              "       'middle age', 'middle age', 'young', 'young', 'young', 'young',\n",
              "       'young', 'young', 'middle age', 'young', 'old', 'young', 'young',\n",
              "       'young', 'young', 'young', 'young', 'young', 'young', 'young',\n",
              "       'middle age', 'young', 'old', 'middle age', 'middle age',\n",
              "       'middle age', 'middle age', 'young', 'middle age', 'young',\n",
              "       'young', 'middle age', 'young', 'middle age', 'middle age', 'old',\n",
              "       'middle age', 'young', 'young', 'young', 'young', 'middle age',\n",
              "       'middle age', 'young', 'middle age', 'young', 'young', 'old',\n",
              "       'young', 'young', 'young', 'young', 'young', 'middle age', 'young',\n",
              "       'young', 'young', 'old', 'old', 'middle age', 'young',\n",
              "       'middle age', 'middle age', 'young', 'middle age', 'young',\n",
              "       'young', 'middle age', 'middle age', 'middle age', 'middle age',\n",
              "       'young', 'young', 'young', 'young', 'middle age', 'middle age',\n",
              "       'old', 'young', 'middle age', 'middle age', 'young', 'middle age',\n",
              "       'young', 'young', 'middle age', 'middle age', 'middle age',\n",
              "       'young', 'middle age', 'young', 'young', 'young', 'middle age',\n",
              "       'young', 'young', 'young', 'young', 'middle age', 'middle age',\n",
              "       'middle age', 'young', 'young', 'young', 'middle age', 'young',\n",
              "       'young', 'middle age', 'old', 'young', 'middle age', 'young',\n",
              "       'middle age', 'young', 'young', 'middle age', 'young',\n",
              "       'middle age', 'young', 'middle age', 'young', 'middle age',\n",
              "       'middle age', 'young', 'middle age', 'young', 'middle age',\n",
              "       'young', 'old', 'young', 'middle age', 'young', 'middle age',\n",
              "       'young', 'middle age', 'old', 'young', 'old', 'young', 'young',\n",
              "       'young', 'young', 'middle age', 'young', 'young', 'middle age',\n",
              "       'young', 'young', 'young', 'young', 'young', 'young', 'middle age',\n",
              "       'young', 'young', 'young', 'young', 'young', 'middle age',\n",
              "       'middle age', 'middle age', 'middle age', 'middle age',\n",
              "       'middle age', 'middle age', 'young', 'young', 'middle age',\n",
              "       'middle age', 'middle age', 'young', 'middle age', 'middle age',\n",
              "       'middle age', 'middle age', 'middle age', 'young', 'middle age',\n",
              "       'young', 'young', 'middle age', 'middle age', 'young', 'old',\n",
              "       'middle age', 'middle age', 'middle age', 'young', 'young',\n",
              "       'young', 'young', 'young', 'old', 'young', 'young', 'young',\n",
              "       'young', 'young', 'middle age', 'young', 'young', 'middle age',\n",
              "       'young', 'young', 'young', 'middle age', 'middle age', 'young',\n",
              "       'middle age', 'young', 'middle age', 'middle age', 'young',\n",
              "       'young', 'old', 'young', 'young', 'middle age', 'young',\n",
              "       'middle age', 'old', 'young', 'young', 'middle age', 'young',\n",
              "       'middle age', 'young', 'young', 'middle age', 'middle age',\n",
              "       'middle age', 'young', 'young', 'middle age', 'middle age',\n",
              "       'middle age', 'middle age', 'middle age', 'young', 'young',\n",
              "       'young', 'young', 'old', 'young', 'middle age', 'young',\n",
              "       'middle age', 'young', 'middle age', 'middle age', 'young',\n",
              "       'young', 'middle age', 'middle age'], dtype='<U10')"
            ]
          },
          "metadata": {},
          "execution_count": 36
        }
      ]
    },
    {
      "cell_type": "code",
      "source": [
        "df['Age Group'] = np.where(df['Age'] > 50, 'old', np.where(df['Age'] > 25, 'middle age', 'young'))"
      ],
      "metadata": {
        "id": "Noz7-n1CXXIq"
      },
      "execution_count": 37,
      "outputs": []
    },
    {
      "cell_type": "code",
      "source": [
        "df.head()"
      ],
      "metadata": {
        "colab": {
          "base_uri": "https://localhost:8080/",
          "height": 293
        },
        "id": "GRTE67BSYa4d",
        "outputId": "cd1889ed-5927-42df-f6bb-1c5837472603"
      },
      "execution_count": 38,
      "outputs": [
        {
          "output_type": "execute_result",
          "data": {
            "text/plain": [
              "   PassengerId  Survived  Pclass  \\\n",
              "0            1         0       3   \n",
              "1            2         1       1   \n",
              "2            3         1       3   \n",
              "3            4         1       1   \n",
              "4            5         0       3   \n",
              "\n",
              "                                                Name     Sex   Age  SibSp  \\\n",
              "0                            Braund, Mr. Owen Harris    male  22.0      1   \n",
              "1  Cumings, Mrs. John Bradley (Florence Briggs Th...  female  38.0      1   \n",
              "2                             Heikkinen, Miss. Laina  female  26.0      0   \n",
              "3       Futrelle, Mrs. Jacques Heath (Lily May Peel)  female  35.0      1   \n",
              "4                           Allen, Mr. William Henry    male  35.0      0   \n",
              "\n",
              "   Parch            Ticket     Fare Cabin Embarked   Age Group  \n",
              "0      0         A/5 21171   7.2500   NaN        S       young  \n",
              "1      0          PC 17599  71.2833   C85        C  middle age  \n",
              "2      0  STON/O2. 3101282   7.9250   NaN        S  middle age  \n",
              "3      0            113803  53.1000  C123        S  middle age  \n",
              "4      0            373450   8.0500   NaN        S  middle age  "
            ],
            "text/html": [
              "\n",
              "  <div id=\"df-e68adda4-ee5a-4fb9-aed2-839e28448987\" class=\"colab-df-container\">\n",
              "    <div>\n",
              "<style scoped>\n",
              "    .dataframe tbody tr th:only-of-type {\n",
              "        vertical-align: middle;\n",
              "    }\n",
              "\n",
              "    .dataframe tbody tr th {\n",
              "        vertical-align: top;\n",
              "    }\n",
              "\n",
              "    .dataframe thead th {\n",
              "        text-align: right;\n",
              "    }\n",
              "</style>\n",
              "<table border=\"1\" class=\"dataframe\">\n",
              "  <thead>\n",
              "    <tr style=\"text-align: right;\">\n",
              "      <th></th>\n",
              "      <th>PassengerId</th>\n",
              "      <th>Survived</th>\n",
              "      <th>Pclass</th>\n",
              "      <th>Name</th>\n",
              "      <th>Sex</th>\n",
              "      <th>Age</th>\n",
              "      <th>SibSp</th>\n",
              "      <th>Parch</th>\n",
              "      <th>Ticket</th>\n",
              "      <th>Fare</th>\n",
              "      <th>Cabin</th>\n",
              "      <th>Embarked</th>\n",
              "      <th>Age Group</th>\n",
              "    </tr>\n",
              "  </thead>\n",
              "  <tbody>\n",
              "    <tr>\n",
              "      <th>0</th>\n",
              "      <td>1</td>\n",
              "      <td>0</td>\n",
              "      <td>3</td>\n",
              "      <td>Braund, Mr. Owen Harris</td>\n",
              "      <td>male</td>\n",
              "      <td>22.0</td>\n",
              "      <td>1</td>\n",
              "      <td>0</td>\n",
              "      <td>A/5 21171</td>\n",
              "      <td>7.2500</td>\n",
              "      <td>NaN</td>\n",
              "      <td>S</td>\n",
              "      <td>young</td>\n",
              "    </tr>\n",
              "    <tr>\n",
              "      <th>1</th>\n",
              "      <td>2</td>\n",
              "      <td>1</td>\n",
              "      <td>1</td>\n",
              "      <td>Cumings, Mrs. John Bradley (Florence Briggs Th...</td>\n",
              "      <td>female</td>\n",
              "      <td>38.0</td>\n",
              "      <td>1</td>\n",
              "      <td>0</td>\n",
              "      <td>PC 17599</td>\n",
              "      <td>71.2833</td>\n",
              "      <td>C85</td>\n",
              "      <td>C</td>\n",
              "      <td>middle age</td>\n",
              "    </tr>\n",
              "    <tr>\n",
              "      <th>2</th>\n",
              "      <td>3</td>\n",
              "      <td>1</td>\n",
              "      <td>3</td>\n",
              "      <td>Heikkinen, Miss. Laina</td>\n",
              "      <td>female</td>\n",
              "      <td>26.0</td>\n",
              "      <td>0</td>\n",
              "      <td>0</td>\n",
              "      <td>STON/O2. 3101282</td>\n",
              "      <td>7.9250</td>\n",
              "      <td>NaN</td>\n",
              "      <td>S</td>\n",
              "      <td>middle age</td>\n",
              "    </tr>\n",
              "    <tr>\n",
              "      <th>3</th>\n",
              "      <td>4</td>\n",
              "      <td>1</td>\n",
              "      <td>1</td>\n",
              "      <td>Futrelle, Mrs. Jacques Heath (Lily May Peel)</td>\n",
              "      <td>female</td>\n",
              "      <td>35.0</td>\n",
              "      <td>1</td>\n",
              "      <td>0</td>\n",
              "      <td>113803</td>\n",
              "      <td>53.1000</td>\n",
              "      <td>C123</td>\n",
              "      <td>S</td>\n",
              "      <td>middle age</td>\n",
              "    </tr>\n",
              "    <tr>\n",
              "      <th>4</th>\n",
              "      <td>5</td>\n",
              "      <td>0</td>\n",
              "      <td>3</td>\n",
              "      <td>Allen, Mr. William Henry</td>\n",
              "      <td>male</td>\n",
              "      <td>35.0</td>\n",
              "      <td>0</td>\n",
              "      <td>0</td>\n",
              "      <td>373450</td>\n",
              "      <td>8.0500</td>\n",
              "      <td>NaN</td>\n",
              "      <td>S</td>\n",
              "      <td>middle age</td>\n",
              "    </tr>\n",
              "  </tbody>\n",
              "</table>\n",
              "</div>\n",
              "    <div class=\"colab-df-buttons\">\n",
              "\n",
              "  <div class=\"colab-df-container\">\n",
              "    <button class=\"colab-df-convert\" onclick=\"convertToInteractive('df-e68adda4-ee5a-4fb9-aed2-839e28448987')\"\n",
              "            title=\"Convert this dataframe to an interactive table.\"\n",
              "            style=\"display:none;\">\n",
              "\n",
              "  <svg xmlns=\"http://www.w3.org/2000/svg\" height=\"24px\" viewBox=\"0 -960 960 960\">\n",
              "    <path d=\"M120-120v-720h720v720H120Zm60-500h600v-160H180v160Zm220 220h160v-160H400v160Zm0 220h160v-160H400v160ZM180-400h160v-160H180v160Zm440 0h160v-160H620v160ZM180-180h160v-160H180v160Zm440 0h160v-160H620v160Z\"/>\n",
              "  </svg>\n",
              "    </button>\n",
              "\n",
              "  <style>\n",
              "    .colab-df-container {\n",
              "      display:flex;\n",
              "      gap: 12px;\n",
              "    }\n",
              "\n",
              "    .colab-df-convert {\n",
              "      background-color: #E8F0FE;\n",
              "      border: none;\n",
              "      border-radius: 50%;\n",
              "      cursor: pointer;\n",
              "      display: none;\n",
              "      fill: #1967D2;\n",
              "      height: 32px;\n",
              "      padding: 0 0 0 0;\n",
              "      width: 32px;\n",
              "    }\n",
              "\n",
              "    .colab-df-convert:hover {\n",
              "      background-color: #E2EBFA;\n",
              "      box-shadow: 0px 1px 2px rgba(60, 64, 67, 0.3), 0px 1px 3px 1px rgba(60, 64, 67, 0.15);\n",
              "      fill: #174EA6;\n",
              "    }\n",
              "\n",
              "    .colab-df-buttons div {\n",
              "      margin-bottom: 4px;\n",
              "    }\n",
              "\n",
              "    [theme=dark] .colab-df-convert {\n",
              "      background-color: #3B4455;\n",
              "      fill: #D2E3FC;\n",
              "    }\n",
              "\n",
              "    [theme=dark] .colab-df-convert:hover {\n",
              "      background-color: #434B5C;\n",
              "      box-shadow: 0px 1px 3px 1px rgba(0, 0, 0, 0.15);\n",
              "      filter: drop-shadow(0px 1px 2px rgba(0, 0, 0, 0.3));\n",
              "      fill: #FFFFFF;\n",
              "    }\n",
              "  </style>\n",
              "\n",
              "    <script>\n",
              "      const buttonEl =\n",
              "        document.querySelector('#df-e68adda4-ee5a-4fb9-aed2-839e28448987 button.colab-df-convert');\n",
              "      buttonEl.style.display =\n",
              "        google.colab.kernel.accessAllowed ? 'block' : 'none';\n",
              "\n",
              "      async function convertToInteractive(key) {\n",
              "        const element = document.querySelector('#df-e68adda4-ee5a-4fb9-aed2-839e28448987');\n",
              "        const dataTable =\n",
              "          await google.colab.kernel.invokeFunction('convertToInteractive',\n",
              "                                                    [key], {});\n",
              "        if (!dataTable) return;\n",
              "\n",
              "        const docLinkHtml = 'Like what you see? Visit the ' +\n",
              "          '<a target=\"_blank\" href=https://colab.research.google.com/notebooks/data_table.ipynb>data table notebook</a>'\n",
              "          + ' to learn more about interactive tables.';\n",
              "        element.innerHTML = '';\n",
              "        dataTable['output_type'] = 'display_data';\n",
              "        await google.colab.output.renderOutput(dataTable, element);\n",
              "        const docLink = document.createElement('div');\n",
              "        docLink.innerHTML = docLinkHtml;\n",
              "        element.appendChild(docLink);\n",
              "      }\n",
              "    </script>\n",
              "  </div>\n",
              "\n",
              "\n",
              "<div id=\"df-f6eb3a39-ab2f-4071-9b84-8c70d32fa200\">\n",
              "  <button class=\"colab-df-quickchart\" onclick=\"quickchart('df-f6eb3a39-ab2f-4071-9b84-8c70d32fa200')\"\n",
              "            title=\"Suggest charts\"\n",
              "            style=\"display:none;\">\n",
              "\n",
              "<svg xmlns=\"http://www.w3.org/2000/svg\" height=\"24px\"viewBox=\"0 0 24 24\"\n",
              "     width=\"24px\">\n",
              "    <g>\n",
              "        <path d=\"M19 3H5c-1.1 0-2 .9-2 2v14c0 1.1.9 2 2 2h14c1.1 0 2-.9 2-2V5c0-1.1-.9-2-2-2zM9 17H7v-7h2v7zm4 0h-2V7h2v10zm4 0h-2v-4h2v4z\"/>\n",
              "    </g>\n",
              "</svg>\n",
              "  </button>\n",
              "\n",
              "<style>\n",
              "  .colab-df-quickchart {\n",
              "      --bg-color: #E8F0FE;\n",
              "      --fill-color: #1967D2;\n",
              "      --hover-bg-color: #E2EBFA;\n",
              "      --hover-fill-color: #174EA6;\n",
              "      --disabled-fill-color: #AAA;\n",
              "      --disabled-bg-color: #DDD;\n",
              "  }\n",
              "\n",
              "  [theme=dark] .colab-df-quickchart {\n",
              "      --bg-color: #3B4455;\n",
              "      --fill-color: #D2E3FC;\n",
              "      --hover-bg-color: #434B5C;\n",
              "      --hover-fill-color: #FFFFFF;\n",
              "      --disabled-bg-color: #3B4455;\n",
              "      --disabled-fill-color: #666;\n",
              "  }\n",
              "\n",
              "  .colab-df-quickchart {\n",
              "    background-color: var(--bg-color);\n",
              "    border: none;\n",
              "    border-radius: 50%;\n",
              "    cursor: pointer;\n",
              "    display: none;\n",
              "    fill: var(--fill-color);\n",
              "    height: 32px;\n",
              "    padding: 0;\n",
              "    width: 32px;\n",
              "  }\n",
              "\n",
              "  .colab-df-quickchart:hover {\n",
              "    background-color: var(--hover-bg-color);\n",
              "    box-shadow: 0 1px 2px rgba(60, 64, 67, 0.3), 0 1px 3px 1px rgba(60, 64, 67, 0.15);\n",
              "    fill: var(--button-hover-fill-color);\n",
              "  }\n",
              "\n",
              "  .colab-df-quickchart-complete:disabled,\n",
              "  .colab-df-quickchart-complete:disabled:hover {\n",
              "    background-color: var(--disabled-bg-color);\n",
              "    fill: var(--disabled-fill-color);\n",
              "    box-shadow: none;\n",
              "  }\n",
              "\n",
              "  .colab-df-spinner {\n",
              "    border: 2px solid var(--fill-color);\n",
              "    border-color: transparent;\n",
              "    border-bottom-color: var(--fill-color);\n",
              "    animation:\n",
              "      spin 1s steps(1) infinite;\n",
              "  }\n",
              "\n",
              "  @keyframes spin {\n",
              "    0% {\n",
              "      border-color: transparent;\n",
              "      border-bottom-color: var(--fill-color);\n",
              "      border-left-color: var(--fill-color);\n",
              "    }\n",
              "    20% {\n",
              "      border-color: transparent;\n",
              "      border-left-color: var(--fill-color);\n",
              "      border-top-color: var(--fill-color);\n",
              "    }\n",
              "    30% {\n",
              "      border-color: transparent;\n",
              "      border-left-color: var(--fill-color);\n",
              "      border-top-color: var(--fill-color);\n",
              "      border-right-color: var(--fill-color);\n",
              "    }\n",
              "    40% {\n",
              "      border-color: transparent;\n",
              "      border-right-color: var(--fill-color);\n",
              "      border-top-color: var(--fill-color);\n",
              "    }\n",
              "    60% {\n",
              "      border-color: transparent;\n",
              "      border-right-color: var(--fill-color);\n",
              "    }\n",
              "    80% {\n",
              "      border-color: transparent;\n",
              "      border-right-color: var(--fill-color);\n",
              "      border-bottom-color: var(--fill-color);\n",
              "    }\n",
              "    90% {\n",
              "      border-color: transparent;\n",
              "      border-bottom-color: var(--fill-color);\n",
              "    }\n",
              "  }\n",
              "</style>\n",
              "\n",
              "  <script>\n",
              "    async function quickchart(key) {\n",
              "      const quickchartButtonEl =\n",
              "        document.querySelector('#' + key + ' button');\n",
              "      quickchartButtonEl.disabled = true;  // To prevent multiple clicks.\n",
              "      quickchartButtonEl.classList.add('colab-df-spinner');\n",
              "      try {\n",
              "        const charts = await google.colab.kernel.invokeFunction(\n",
              "            'suggestCharts', [key], {});\n",
              "      } catch (error) {\n",
              "        console.error('Error during call to suggestCharts:', error);\n",
              "      }\n",
              "      quickchartButtonEl.classList.remove('colab-df-spinner');\n",
              "      quickchartButtonEl.classList.add('colab-df-quickchart-complete');\n",
              "    }\n",
              "    (() => {\n",
              "      let quickchartButtonEl =\n",
              "        document.querySelector('#df-f6eb3a39-ab2f-4071-9b84-8c70d32fa200 button');\n",
              "      quickchartButtonEl.style.display =\n",
              "        google.colab.kernel.accessAllowed ? 'block' : 'none';\n",
              "    })();\n",
              "  </script>\n",
              "</div>\n",
              "\n",
              "    </div>\n",
              "  </div>\n"
            ]
          },
          "metadata": {},
          "execution_count": 38
        }
      ]
    },
    {
      "cell_type": "code",
      "source": [
        "np.mean(numbers_array)"
      ],
      "metadata": {
        "colab": {
          "base_uri": "https://localhost:8080/"
        },
        "id": "IaAc8RAhYcpX",
        "outputId": "aa02bb3b-b0dc-4586-c22b-cc25ab291418"
      },
      "execution_count": 39,
      "outputs": [
        {
          "output_type": "execute_result",
          "data": {
            "text/plain": [
              "18.8"
            ]
          },
          "metadata": {},
          "execution_count": 39
        }
      ]
    },
    {
      "cell_type": "code",
      "source": [],
      "metadata": {
        "id": "-LX9O8GjZdMZ"
      },
      "execution_count": null,
      "outputs": []
    }
  ]
}