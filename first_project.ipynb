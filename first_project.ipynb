{
  "nbformat": 4,
  "nbformat_minor": 0,
  "metadata": {
    "colab": {
      "provenance": [],
      "authorship_tag": "ABX9TyNif6l7vG3gKNUd3uH4Mo8J",
      "include_colab_link": true
    },
    "kernelspec": {
      "name": "python3",
      "display_name": "Python 3"
    },
    "language_info": {
      "name": "python"
    }
  },
  "cells": [
    {
      "cell_type": "markdown",
      "metadata": {
        "id": "view-in-github",
        "colab_type": "text"
      },
      "source": [
        "<a href=\"https://colab.research.google.com/github/dlhearn/btech-Python/blob/main/first_project.ipynb\" target=\"_parent\"><img src=\"https://colab.research.google.com/assets/colab-badge.svg\" alt=\"Open In Colab\"/></a>"
      ]
    },
    {
      "cell_type": "code",
      "source": [
        "# Import the pandas library\n",
        "import pandas as pd\n",
        "\n",
        "# Read in the data as the variable `df`\n",
        "df = pd.read_csv('titanic.csv')"
      ],
      "metadata": {
        "id": "on5wF8Xejey8"
      },
      "execution_count": 1,
      "outputs": []
    }
  ]
}